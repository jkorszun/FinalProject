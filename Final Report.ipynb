{
 "cells": [
  {
   "cell_type": "markdown",
   "metadata": {},
   "source": [
    "# Case Statement "
   ]
  },
  {
   "cell_type": "markdown",
   "metadata": {},
   "source": [
    "Local business entrepreneurs are seeking to opening businesses in downtown Toronto area. They have come seeking advice on where and what type of business they should be opening in downtown Toronto area. If downtown Toronto is overly abundant in numerous business types, they would like to understand where and how far these groupings of businesses are from one another. This will help gauge profitability of the business chosen to develop in the area. "
   ]
  },
  {
   "cell_type": "markdown",
   "metadata": {},
   "source": [
    "# Data Descritpion"
   ]
  },
  {
   "cell_type": "markdown",
   "metadata": {},
   "source": [
    "We will be using the Foursquare API to utilize neighborhood information. This neighborhood information will give us the local stores surrounding the downtown Toronto area. We will be able to use a K-means clustering algorithm to group together similar shops around the area. By understanding the similar stores in the area, we can gauge how likely profitability will be from the store groupings in the surrounding area. For example, if there are numerous gyms in the area, we likely wouldn’t open a gym nearby as it would have a lot of competition nearby. "
   ]
  },
  {
   "cell_type": "markdown",
   "metadata": {},
   "source": [
    "# Method"
   ]
  },
  {
   "cell_type": "markdown",
   "metadata": {},
   "source": [
    "The method used for this analysis was the K-means clustering. We were able to group similar venues in the Downtown Toronto Area to find which types of venues are most popular in different clusters. This allows us to narrow in on a location and determine what people would likely be interested in per given cluster. We were looking for the most popular attraction to potentially bring about the most profit to the business. To condidently choose the most optimal business plan groupings of attactions based on categories were made. There were various categories per cluster so likely we wouldn't want to choose the most popular from each cluster, but the secone or third most popular. "
   ]
  },
  {
   "cell_type": "markdown",
   "metadata": {},
   "source": [
    "# Results "
   ]
  },
  {
   "cell_type": "markdown",
   "metadata": {},
   "source": [
    "\n",
    "Borough\tCluster Labels\t1st Most Common Venue\t2nd Most Common Venue\t3rd Most Common Venue\t4th Most Common Venue\t5th Most Common Venue\t6th Most Common Venue\t7th Most Common Venue\t8th Most Common Venue\t9th Most Common Venue\t10th Most Common Venue\n",
    "\n",
    "\n",
    "1\tDowntown Toronto\t4\tRestaurant\tCoffee Shop\tPharmacy\tIndian Restaurant\tPizza Place\tCafé\tPark\tBakery\tPub\tItalian Restaurant\n",
    "\n",
    "3\tDowntown Toronto\t4\tCoffee Shop\tPark\tCafé\tPub\tBakery\tMexican Restaurant\tBreakfast Spot\tRestaurant\tTheater\tDessert Shop\n",
    "\n",
    "13\tDowntown Toronto\t4\tCafé\tBar\tVegetarian / Vegan Restaurant\tDumpling Restaurant\tVietnamese Restaurant\tCoffee Shop\tBakery\tMexican Restaurant\tChinese Restaurant\tGaming Cafe\n",
    "\n",
    "16\tDowntown Toronto\t4\tCafé\tCoffee Shop\tHotel\tRestaurant\tAmerican Restaurant\tBakery\tSeafood Restaurant\tSteakhouse\tBar\tAsian Restaurant\n",
    "\n",
    "17\tDowntown Toronto\t4\tGrocery Store\tCafé\tPark\tAthletics & Sports\tItalian Restaurant\tBaby Store\tDiner\tNightclub\tConvenience Store\tCoffee Shop"
   ]
  },
  {
   "cell_type": "markdown",
   "metadata": {},
   "source": [
    "The results broke the clusters down into five groups. We can see that Restaurant, Coffee Shop, Cafe, Cafe, and Grocery Store are the most popular venues in each respected cluster. I would advice choosing the second most poplular venue for each given cluster to have competition at a more reasonable scale for small business or the client would be able to target the most popular if they have the financial resources to compete at that level.  "
   ]
  },
  {
   "cell_type": "markdown",
   "metadata": {},
   "source": [
    "# Conclusion"
   ]
  },
  {
   "cell_type": "markdown",
   "metadata": {},
   "source": [
    "Overall, there is a lot of variety in the cluster groupings showing that the algorithm sufficiently grouped Downtown venues by attraction. Depending on the business partner looking to open up a shop in the Downtown Toronoto area, this analysis would be able to guide them in opening up a venue. "
   ]
  },
  {
   "cell_type": "code",
   "execution_count": null,
   "metadata": {},
   "outputs": [],
   "source": []
  }
 ],
 "metadata": {
  "kernelspec": {
   "display_name": "Python 3",
   "language": "python",
   "name": "python3"
  },
  "language_info": {
   "codemirror_mode": {
    "name": "ipython",
    "version": 3
   },
   "file_extension": ".py",
   "mimetype": "text/x-python",
   "name": "python",
   "nbconvert_exporter": "python",
   "pygments_lexer": "ipython3",
   "version": "3.7.1"
  }
 },
 "nbformat": 4,
 "nbformat_minor": 2
}
