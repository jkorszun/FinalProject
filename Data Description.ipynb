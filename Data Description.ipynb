{
 "cells": [
  {
   "cell_type": "markdown",
   "metadata": {},
   "source": [
    "# Case Statement "
   ]
  },
  {
   "cell_type": "markdown",
   "metadata": {},
   "source": [
    "Local business entrepreneurs are seeking to opening businesses in downtown Toronto area. They have come seeking advice on where and what type of business they should be opening in downtown Toronto area. If downtown Toronto is overly abundant in numerous business types, they would like to understand where and how far these groupings of businesses are from one another. This will help gauge profitability of the business chosen to develop in the area. "
   ]
  },
  {
   "cell_type": "markdown",
   "metadata": {},
   "source": [
    "# Data Descritpion"
   ]
  },
  {
   "cell_type": "markdown",
   "metadata": {},
   "source": [
    "We will be using the Foursquare API to utilize neighborhood information. This neighborhood information will give us the local stores surrounding the downtown Toronto area. We will be able to use a K-means clustering algorithm to group together similar shops around the area. By understanding the similar stores in the area, we can gauge how likely profitability will be from the store groupings in the surrounding area. For example, if there are numerous gyms in the area, we likely wouldn’t open a gym nearby as it would have a lot of competition nearby. "
   ]
  },
  {
   "cell_type": "code",
   "execution_count": null,
   "metadata": {},
   "outputs": [],
   "source": []
  }
 ],
 "metadata": {
  "kernelspec": {
   "display_name": "Python 3",
   "language": "python",
   "name": "python3"
  },
  "language_info": {
   "codemirror_mode": {
    "name": "ipython",
    "version": 3
   },
   "file_extension": ".py",
   "mimetype": "text/x-python",
   "name": "python",
   "nbconvert_exporter": "python",
   "pygments_lexer": "ipython3",
   "version": "3.7.1"
  }
 },
 "nbformat": 4,
 "nbformat_minor": 2
}
